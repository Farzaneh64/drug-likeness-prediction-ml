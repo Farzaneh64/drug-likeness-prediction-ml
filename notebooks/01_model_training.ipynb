{
  "nbformat": 4,
  "nbformat_minor": 0,
  "metadata": {
    "colab": {
      "provenance": []
    },
    "kernelspec": {
      "name": "python3",
      "display_name": "Python 3"
    },
    "language_info": {
      "name": "python"
    }
  },
  "cells": [
    {
      "cell_type": "markdown",
      "source": [
        "# 1. Title & Overview"
      ],
      "metadata": {
        "id": "KrNu2wImRDiP"
      }
    },
    {
      "cell_type": "markdown",
      "source": [
        "# 01 – Model Training for Drug-Likeness Prediction\n",
        "\n",
        "This notebook demonstrates how to:\n",
        "1. Load the descriptor dataset  \n",
        "2. Explore label balance and key feature distributions  \n",
        "3. Train a Random Forest classifier  \n",
        "4. Evaluate performance (confusion matrix, ROC curve)  \n",
        "5. Inspect feature importances  "
      ],
      "metadata": {
        "id": "8sBmugKCRGUq"
      }
    },
    {
      "cell_type": "markdown",
      "source": [
        "# 2. Setup & Imports"
      ],
      "metadata": {
        "id": "VN8k50k1RjD0"
      }
    },
    {
      "cell_type": "code",
      "source": [
        "# (Re)install any missing dependencies in Colab\n",
        "!pip install -q scikit-learn matplotlib pandas joblib\n",
        "\n",
        "import pandas as pd\n",
        "import numpy as np\n",
        "import matplotlib.pyplot as plt\n",
        "\n",
        "from sklearn.model_selection import train_test_split\n",
        "from sklearn.ensemble import RandomForestClassifier\n",
        "from sklearn.metrics import (\n",
        "    classification_report,\n",
        "    confusion_matrix,\n",
        "    roc_auc_score,\n",
        "    RocCurveDisplay\n",
        ")\n",
        "import joblib"
      ],
      "metadata": {
        "id": "ICHGFQPURlMl"
      },
      "execution_count": null,
      "outputs": []
    },
    {
      "cell_type": "markdown",
      "source": [
        "# 3. Load Descriptor Data"
      ],
      "metadata": {
        "id": "AXDvs6PcR9KJ"
      }
    },
    {
      "cell_type": "code",
      "source": [
        "# Point this path at your descriptor CSV\n",
        "df = pd.read_csv('../data/drug_likeness_descriptors.csv')\n",
        "print(f\"Dataset shape: {df.shape}\")\n",
        "df.head()"
      ],
      "metadata": {
        "id": "RpDdzDO1SAv9"
      },
      "execution_count": null,
      "outputs": []
    },
    {
      "cell_type": "markdown",
      "source": [
        "# 4. Quick Exploratory Data Analysis"
      ],
      "metadata": {
        "id": "-4MCJx2nSGF1"
      }
    },
    {
      "cell_type": "markdown",
      "source": [
        "\n",
        "\n",
        "*   Label distribution\n",
        "\n",
        "\n",
        "\n"
      ],
      "metadata": {
        "id": "2r_QxLssSHWd"
      }
    },
    {
      "cell_type": "code",
      "source": [
        "df['Label'].value_counts().plot.bar(title='Class Balance')\n",
        "plt.xticks([0,1], ['Decoy (0)', 'Drug (1)'])\n",
        "plt.show()"
      ],
      "metadata": {
        "id": "nwPfg81TSQvt"
      },
      "execution_count": null,
      "outputs": []
    },
    {
      "cell_type": "markdown",
      "source": [
        "\n",
        "\n",
        "*   Example descriptor summary\n",
        "\n",
        "\n"
      ],
      "metadata": {
        "id": "vLYktfsbSTXS"
      }
    },
    {
      "cell_type": "code",
      "source": [
        "df.iloc[:, 3:10].describe().T  # show first few descriptor stats"
      ],
      "metadata": {
        "id": "bEv30TzrSYMi"
      },
      "execution_count": null,
      "outputs": []
    },
    {
      "cell_type": "markdown",
      "source": [
        "# 5. Train/Test Split"
      ],
      "metadata": {
        "id": "fiJ_HtJ4Sh9A"
      }
    },
    {
      "cell_type": "code",
      "source": [
        "X = df.drop(columns=['ID','Target','Label'])\n",
        "y = df['Label']\n",
        "\n",
        "X_train, X_test, y_train, y_test = train_test_split(\n",
        "    X, y, test_size=0.2, random_state=42, stratify=y\n",
        ")\n",
        "print(f\"Train: {len(y_train)} | Test: {len(y_test)}\")"
      ],
      "metadata": {
        "id": "vHnHYRiCSj0K"
      },
      "execution_count": null,
      "outputs": []
    },
    {
      "cell_type": "markdown",
      "source": [
        "# 6. Random Forest Training"
      ],
      "metadata": {
        "id": "avkOcFKsStT3"
      }
    },
    {
      "cell_type": "code",
      "source": [
        "rf = RandomForestClassifier(\n",
        "    n_estimators=100,\n",
        "    class_weight='balanced',\n",
        "    random_state=42\n",
        ")\n",
        "rf.fit(X_train, y_train)"
      ],
      "metadata": {
        "id": "ITRFQKeSS0Sy"
      },
      "execution_count": null,
      "outputs": []
    },
    {
      "cell_type": "markdown",
      "source": [
        "# 7. Evaluation\n",
        "\n",
        "\n",
        "*   Classification report\n",
        "\n",
        "\n"
      ],
      "metadata": {
        "id": "YuKY6V_PS6d5"
      }
    },
    {
      "cell_type": "code",
      "source": [
        "y_pred  = rf.predict(X_test)\n",
        "y_proba = rf.predict_proba(X_test)[:,1]\n",
        "\n",
        "print(classification_report(y_test, y_pred))"
      ],
      "metadata": {
        "id": "RywrdCVVTB0h"
      },
      "execution_count": null,
      "outputs": []
    },
    {
      "cell_type": "markdown",
      "source": [
        "\n",
        "\n",
        "*  Confusion matrix\n",
        "\n"
      ],
      "metadata": {
        "id": "MrVKJ-PpTHfW"
      }
    },
    {
      "cell_type": "code",
      "source": [
        "cm = confusion_matrix(y_test, y_pred)\n",
        "print(cm)"
      ],
      "metadata": {
        "id": "zRvkuZRqTNfC"
      },
      "execution_count": null,
      "outputs": []
    },
    {
      "cell_type": "markdown",
      "source": [
        "\n",
        "\n",
        "*   ROC curve & AUC\n",
        "\n"
      ],
      "metadata": {
        "id": "JQD8bIklTQsJ"
      }
    },
    {
      "cell_type": "code",
      "source": [
        "auc = roc_auc_score(y_test, y_proba)\n",
        "print(f'ROC AUC = {auc:.3f}')\n",
        "RocCurveDisplay.from_estimator(rf, X_test, y_test)\n",
        "plt.show()"
      ],
      "metadata": {
        "id": "XrIeW7tITWIi"
      },
      "execution_count": null,
      "outputs": []
    },
    {
      "cell_type": "markdown",
      "source": [
        "# 8. Feature Importance"
      ],
      "metadata": {
        "id": "8W6C9XOfTbFO"
      }
    },
    {
      "cell_type": "code",
      "source": [
        "importances = pd.Series(rf.feature_importances_, index=X.columns)\n",
        "importances.nlargest(10).plot.barh(title='Top 10 Feature Importances')\n",
        "plt.show()"
      ],
      "metadata": {
        "id": "L7P_tLRVTc7S"
      },
      "execution_count": null,
      "outputs": []
    },
    {
      "cell_type": "markdown",
      "source": [
        "# 9. Save Trained Model"
      ],
      "metadata": {
        "id": "cEoOSS_8Tfa0"
      }
    },
    {
      "cell_type": "code",
      "source": [
        "joblib.dump(rf, '../models/rf_drug_likeness_model.joblib')\n",
        "print(\"Model saved to models/rf_drug_likeness_model.joblib\")"
      ],
      "metadata": {
        "id": "2vHPHl3NTiV2"
      },
      "execution_count": null,
      "outputs": []
    },
    {
      "cell_type": "markdown",
      "source": [
        "# 10. Next Steps\n",
        "**Next:**  \n",
        "- Hyperparameter tuning (GridSearchCV on `n_estimators`, `max_depth`)  \n",
        "- Try XGBoost or logistic regression baselines  \n",
        "- Build a Streamlit demo in `app/streamlit_app.py`"
      ],
      "metadata": {
        "id": "Jjcl_4UuTluR"
      }
    },
    {
      "cell_type": "code",
      "source": [],
      "metadata": {
        "id": "LQ-G5OB3TsD9"
      },
      "execution_count": null,
      "outputs": []
    }
  ]
}